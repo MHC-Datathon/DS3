{
 "cells": [
  {
   "cell_type": "code",
   "execution_count": 3,
   "id": "77a8ae28",
   "metadata": {},
   "outputs": [],
   "source": [
    "import pandas as pd\n",
    "import os\n",
    "\n",
    "# The directory where you unzipped the five 'gtfs_...' folders\n",
    "DATA_DIR = os.path.join(\"..\", \"..\", \"data\", \"raw\") \n",
    "\n",
    "# A new folder to save your combined files\n",
    "COMBINED_DIR = os.path.join(\"..\", \"..\", \"data\", \"processed\", \"gtfs_combined\")\n",
    "\n",
    "# Create the output directory if it doesn't exist\n",
    "os.makedirs(COMBINED_DIR, exist_ok=True)"
   ]
  },
  {
   "cell_type": "code",
   "execution_count": 4,
   "id": "64350b6d",
   "metadata": {},
   "outputs": [
    {
     "name": "stdout",
     "output_type": "stream",
     "text": [
      "Starting the file combination and deduplication process...\n",
      "\n",
      "Combined 'stops.txt': 11523 rows (175 duplicates removed)\n",
      "Combined 'routes.txt': 288 rows (1152 duplicates removed)\n",
      "Combined 'stop_times.txt': 6374563 rows (0 duplicates removed)\n",
      "Combined 'trips.txt': 185050 rows (0 duplicates removed)\n",
      "Combined 'calendar.txt': 104 rows (0 duplicates removed)\n",
      "Combined 'calendar_dates.txt': 2284 rows (0 duplicates removed)\n",
      "\n",
      "✅ Combination and deduplication complete!\n"
     ]
    }
   ],
   "source": [
    "import pandas as pd\n",
    "import os\n",
    "\n",
    "# List of the five borough abbreviations used in your folder names\n",
    "boroughs = ['b', 'bx', 'm', 'q', 'si']\n",
    "\n",
    "# List of the essential files you want to combine\n",
    "files_to_combine = [\n",
    "    'stops.txt',\n",
    "    'routes.txt',\n",
    "    'stop_times.txt',\n",
    "    'trips.txt',\n",
    "    'calendar.txt',\n",
    "    'calendar_dates.txt'\n",
    "]\n",
    "\n",
    "print(\"Starting the file combination and deduplication process...\\n\")\n",
    "\n",
    "# Loop through each filename\n",
    "for filename in files_to_combine:\n",
    "    \n",
    "    list_of_dfs = [] # Holds the data from each borough for the current file\n",
    "    \n",
    "    # Loop through each borough folder\n",
    "    for borough in boroughs:\n",
    "        file_path = os.path.join(DATA_DIR, f\"gtfs_{borough}\", filename)\n",
    "        \n",
    "        if os.path.exists(file_path):\n",
    "            df = pd.read_csv(file_path, low_memory=False)\n",
    "            list_of_dfs.append(df)\n",
    "    \n",
    "    if list_of_dfs:\n",
    "        combined_df = pd.concat(list_of_dfs, ignore_index=True)\n",
    "        \n",
    "        # --- UPDATED DUPLICATE REMOVAL LOGIC ---\n",
    "        before_count = len(combined_df)\n",
    "        \n",
    "        # For files with a clear unique ID, drop duplicates based on that key\n",
    "        if filename == 'stops.txt':\n",
    "            combined_df.drop_duplicates(subset=['stop_id'], inplace=True)\n",
    "        elif filename == 'routes.txt':\n",
    "            combined_df.drop_duplicates(subset=['route_id'], inplace=True)\n",
    "        # For all other files, drop rows that are completely identical\n",
    "        else:\n",
    "            combined_df.drop_duplicates(inplace=True)\n",
    "        \n",
    "        after_count = len(combined_df)\n",
    "        duplicates_removed = before_count - after_count\n",
    "            \n",
    "        print(f\"Combined '{filename}': {after_count} rows ({duplicates_removed} duplicates removed)\")\n",
    "            \n",
    "        # Save the new combined file\n",
    "        output_path = os.path.join(COMBINED_DIR, filename)\n",
    "        combined_df.to_csv(output_path, index=False)\n",
    "    else:\n",
    "        print(f\"No files found for '{filename}'\")\n",
    "\n",
    "print(\"\\n✅ Combination and deduplication complete!\")"
   ]
  }
 ],
 "metadata": {
  "kernelspec": {
   "display_name": "base",
   "language": "python",
   "name": "python3"
  },
  "language_info": {
   "codemirror_mode": {
    "name": "ipython",
    "version": 3
   },
   "file_extension": ".py",
   "mimetype": "text/x-python",
   "name": "python",
   "nbconvert_exporter": "python",
   "pygments_lexer": "ipython3",
   "version": "3.12.7"
  }
 },
 "nbformat": 4,
 "nbformat_minor": 5
}
