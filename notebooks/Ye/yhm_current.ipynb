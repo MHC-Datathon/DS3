{
 "cells": [
  {
   "cell_type": "code",
   "execution_count": null,
   "id": "7f303813",
   "metadata": {},
   "outputs": [
    {
     "name": "stdout",
     "output_type": "stream",
     "text": [
      "Downloading data for ACE-Enforced routes...\n",
      "✅ Success! File created at: ../../data/raw/MTA_Bus_Automated_Camera_Enforced_Routes.csv\n",
      "\n",
      "First 5 rows of the new file:\n",
      "  Route Program Implementation Date\n",
      "0  M15+    ABLE          10/07/2019\n",
      "1  B44+    ABLE          10/30/2019\n",
      "2  M14+    ABLE          11/21/2019\n",
      "3  B46+    ABLE          02/19/2020\n",
      "4  M23+    ABLE          08/10/2020\n"
     ]
    }
   ],
   "source": [
    "import pandas as pd\n",
    "import os\n",
    "import urllib.error\n",
    "\n",
    "# --- 1. Define the source URL and the output path ---\n",
    "# This is the official data source from data.ny.gov\n",
    "url = \"https://data.ny.gov/api/views/ki2b-sg5y/rows.csv?accessType=DOWNLOAD\"\n",
    "\n",
    "# The path where you want to save the file\n",
    "RAW_DIR = os.path.join(\"..\",\"..\", \"data\", \"raw\")\n",
    "output_path = os.path.join(RAW_DIR, \"MTA_Bus_Automated_Camera_Enforced_Routes.csv\")\n",
    "\n",
    "# --- 2. Download and Save the Data ---\n",
    "try:\n",
    "    print(\"Downloading data for ACE-Enforced routes...\")\n",
    "    \n",
    "    # Read the data directly from the URL into a pandas DataFrame\n",
    "    ace_routes_df = pd.read_csv(url)\n",
    "    \n",
    "    # Save the DataFrame to a local CSV file\n",
    "    ace_routes_df.to_csv(output_path, index=False)\n",
    "    \n",
    "    print(f\"✅ Success! File created at: {output_path}\")\n",
    "    print(\"\\nFirst 5 rows of the new file:\")\n",
    "    print(ace_routes_df.head())\n",
    "\n",
    "except urllib.error.URLError as e:\n",
    "    print(f\"❌ A network error occurred. Please check your internet connection.\")\n",
    "    print(f\"   Error details: {e}\")\n",
    "except Exception as e:\n",
    "    print(f\"❌ An error occurred: {e}\")\n"
   ]
  },
  {
   "cell_type": "code",
   "execution_count": 6,
   "id": "54f51941",
   "metadata": {},
   "outputs": [
    {
     "name": "stdout",
     "output_type": "stream",
     "text": [
      "--- Your CUNY-area Bus Routes ---\n",
      "['B1' 'B11' 'B25' 'B26' 'B32' 'B38' 'B41' 'B43' 'B44-SBS' 'B45' 'B48'\n",
      " 'B49' 'B52' 'B54' 'B57' 'B6' 'B61' 'B62' 'B65' 'B67' 'B69' 'Bx1' 'Bx10'\n",
      " 'Bx13' 'Bx19' 'Bx2' 'Bx22' 'Bx25' 'Bx26' 'Bx28' 'Bx3' 'Bx32' 'Bx33'\n",
      " 'Bx34' 'Bx38' 'Bx40' 'Bx42' 'M1' 'M10' 'M100' 'M101' 'M102' 'M103' 'M104'\n",
      " 'M11' 'M12' 'M125' 'M15' 'M15-SBS' 'M2' 'M20' 'M22' 'M23-SBS' 'M3' 'M31'\n",
      " 'M34-SBS' 'M34A-SBS' 'M4' 'M42' 'M5' 'M50' 'M55' 'M57' 'M60-SBS' 'M66'\n",
      " 'M7' 'M72' 'M9' 'M98' 'Q17' 'Q20' 'Q27' 'Q30' 'Q31' 'Q39' 'Q4' 'Q42'\n",
      " 'Q44-SBS' 'Q5' 'Q54' 'Q56' 'Q67' 'Q75' 'Q83' 'Q84' 'Q85' 'Q86' 'Q87'\n",
      " 'Q88' 'Q89' 'QM63' 'QM64' 'QM68' 'S62' 'S92' 'S93' 'SIM1' 'SIM10' 'SIM11'\n",
      " 'SIM1C' 'SIM2' 'SIM22' 'SIM23' 'SIM24' 'SIM25' 'SIM26' 'SIM3' 'SIM30'\n",
      " 'SIM31' 'SIM32' 'SIM33' 'SIM33C' 'SIM34' 'SIM3C' 'SIM4' 'SIM4C' 'SIM6'\n",
      " 'SIM7' 'SIM8' 'SIM9' 'X27' 'X28' 'X37' 'X38']\n",
      "\n",
      "--- Official ACE-Enforced Routes ---\n",
      "['M15+' 'B44+' 'M14+' 'B46+' 'M23+' 'M86+' 'M34+' 'Q44+' 'S79+' 'BX41+'\n",
      " 'BX12+' 'Q43' 'BX19' 'B62' 'B42' 'B25' 'BX35' 'BX36' 'Q58' 'B26' 'Q54'\n",
      " 'B35' 'B41' 'BX28' 'BX38' 'M101' 'S46' 'B82+' 'BX6+' 'M60+' 'M79+' 'Q5'\n",
      " 'Q53+' 'Q69' 'M2' 'M4' 'BX5' 'M42' 'M100' 'BX3' 'BX7' 'BX20' 'Q6']\n",
      "\n",
      "Analyzing the following routes: ['BX12+', 'M15']\n"
     ]
    }
   ],
   "source": [
    "\n",
    "\n",
    "# --- Define File Paths ---\n",
    "PROCESSED_DIR = os.path.join(\"..\",\"..\", \"data\", \"processed\")\n",
    "RAW_DIR = os.path.join(\"..\",\"..\", \"data\", \"raw\")\n",
    "\n",
    "# --- Load Your CUNY Routes and the Official ACE Routes List ---\n",
    "cuny_routes_df = pd.read_csv(os.path.join(PROCESSED_DIR, \"cuny_routes_with_campuses.csv\"))\n",
    "ace_routes_df = pd.read_csv(os.path.join(RAW_DIR, \"MTA_Bus_Automated_Camera_Enforced_Routes.csv\"))\n",
    "\n",
    "print(\"--- Your CUNY-area Bus Routes ---\")\n",
    "print(cuny_routes_df['route_short_name'].unique())\n",
    "\n",
    "print(\"\\n--- Official ACE-Enforced Routes ---\")\n",
    "print(ace_routes_df['Route'].unique())\n",
    "\n",
    "# --- ACTION REQUIRED: Choose Your Routes ---\n",
    "# Choose 2 or 3 routes from your list above for comparison.\n",
    "# Make sure at least one is on the ACE list and one is not.\n",
    "# Example: 'BX12+' is ACE-enforced, 'M15' is not.\n",
    "case_study_routes = ['BX12+', 'M15'] \n",
    "print(f\"\\nAnalyzing the following routes: {case_study_routes}\")"
   ]
  },
  {
   "cell_type": "code",
   "execution_count": 7,
   "id": "f87d54dd",
   "metadata": {},
   "outputs": [
    {
     "name": "stdout",
     "output_type": "stream",
     "text": [
      "--- Generating File 1: CUNY Routes with ACE Status ---\n",
      "✅ Successfully created: ../../data/processed/cuny_routes_with_ace_status.csv\n",
      "Sample of the new file:\n",
      "  route_short_name  is_ace_enforced                          serves_campuses\n",
      "0               B1            False       ['Kingsborough Community College']\n",
      "1              B11            False                     ['Brooklyn College']\n",
      "2              B25             True  ['New York City College of Technology']\n",
      "3              B26             True  ['New York City College of Technology']\n",
      "4              B32            False                        ['School of Law']\n"
     ]
    }
   ],
   "source": [
    "import pandas as pd\n",
    "import os\n",
    "\n",
    "# --- Define File Paths ---\n",
    "PROCESSED_DIR = os.path.join(\"..\", \"..\", \"data\", \"processed\")\n",
    "RAW_DIR = os.path.join(\"..\", \"..\", \"data\", \"raw\")\n",
    "\n",
    "# --- Load the necessary DataFrames from your notebook ---\n",
    "cuny_routes_df = pd.read_csv(os.path.join(PROCESSED_DIR, \"cuny_routes_with_campuses.csv\"))\n",
    "ace_routes_df = pd.read_csv(os.path.join(RAW_DIR, \"MTA_Bus_Automated_Camera_Enforced_Routes.csv\"))\n",
    "case_study_routes = ['BX12+', 'M15'] # The routes you've chosen to analyze\n",
    "\n",
    "# ==============================================================================\n",
    "# File 1: Create a CSV of CUNY Routes with their ACE Enforcement Status\n",
    "# ==============================================================================\n",
    "print(\"--- Generating File 1: CUNY Routes with ACE Status ---\")\n",
    "\n",
    "# Get a clean list of the ACE route names\n",
    "# Note: The column name in the official file is 'Route'\n",
    "ace_route_list = ace_routes_df['Route'].unique()\n",
    "\n",
    "# Add a new boolean column 'is_ace_enforced' to your cuny_routes_df\n",
    "# It will be True if the route name is in the ace_route_list\n",
    "cuny_routes_df['is_ace_enforced'] = cuny_routes_df['route_short_name'].isin(ace_route_list)\n",
    "\n",
    "# Define the output path and save the file\n",
    "output_path_1 = os.path.join(PROCESSED_DIR, \"cuny_routes_with_ace_status.csv\")\n",
    "cuny_routes_df.to_csv(output_path_1, index=False)\n",
    "\n",
    "print(f\"✅ Successfully created: {output_path_1}\")\n",
    "print(\"Sample of the new file:\")\n",
    "print(cuny_routes_df[['route_short_name', 'is_ace_enforced', 'serves_campuses']].head())\n",
    "\n"
   ]
  }
 ],
 "metadata": {
  "kernelspec": {
   "display_name": "base",
   "language": "python",
   "name": "python3"
  },
  "language_info": {
   "codemirror_mode": {
    "name": "ipython",
    "version": 3
   },
   "file_extension": ".py",
   "mimetype": "text/x-python",
   "name": "python",
   "nbconvert_exporter": "python",
   "pygments_lexer": "ipython3",
   "version": "3.12.7"
  }
 },
 "nbformat": 4,
 "nbformat_minor": 5
}
