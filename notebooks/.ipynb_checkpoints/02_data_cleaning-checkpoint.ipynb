{
 "cells": [
  {
   "cell_type": "code",
   "execution_count": 53,
   "metadata": {},
   "outputs": [],
   "source": [
    "#Hello"
   ]
  },
  {
   "cell_type": "code",
   "execution_count": 3,
   "metadata": {},
   "outputs": [],
   "source": [
    "#Import Libraries\n",
    "import pandas as pd\n",
    "import os"
   ]
  },
  {
   "cell_type": "code",
   "execution_count": 55,
   "metadata": {},
   "outputs": [],
   "source": [
    "# Path to data folder relative to the notebook\n",
    "DATA_DIR = os.path.join(\"..\", \"data\", \"raw\")"
   ]
  },
  {
   "cell_type": "code",
   "execution_count": 56,
   "metadata": {},
   "outputs": [],
   "source": [
    "ace_violations = pd.read_csv(os.path.join(DATA_DIR, \"ACE_violations.csv\"))"
   ]
  },
  {
   "cell_type": "code",
   "execution_count": 57,
   "metadata": {},
   "outputs": [
    {
     "data": {
      "text/html": [
       "<div>\n",
       "<style scoped>\n",
       "    .dataframe tbody tr th:only-of-type {\n",
       "        vertical-align: middle;\n",
       "    }\n",
       "\n",
       "    .dataframe tbody tr th {\n",
       "        vertical-align: top;\n",
       "    }\n",
       "\n",
       "    .dataframe thead th {\n",
       "        text-align: right;\n",
       "    }\n",
       "</style>\n",
       "<table border=\"1\" class=\"dataframe\">\n",
       "  <thead>\n",
       "    <tr style=\"text-align: right;\">\n",
       "      <th></th>\n",
       "      <th>Violation ID</th>\n",
       "      <th>Vehicle ID</th>\n",
       "      <th>First Occurrence</th>\n",
       "      <th>Last Occurrence</th>\n",
       "      <th>Violation Status</th>\n",
       "      <th>Violation Type</th>\n",
       "      <th>Bus Route ID</th>\n",
       "      <th>Violation Latitude</th>\n",
       "      <th>Violation Longitude</th>\n",
       "      <th>Stop ID</th>\n",
       "      <th>Stop Name</th>\n",
       "      <th>Bus Stop Latitude</th>\n",
       "      <th>Bus Stop Longitude</th>\n",
       "      <th>Violation Georeference</th>\n",
       "      <th>Bus Stop Georeference</th>\n",
       "    </tr>\n",
       "  </thead>\n",
       "  <tbody>\n",
       "    <tr>\n",
       "      <th>0</th>\n",
       "      <td>489739752</td>\n",
       "      <td>6be26f24256f82d0efbf8da34f96c257d427aef7555f76...</td>\n",
       "      <td>08/20/2025 08:51:35 PM</td>\n",
       "      <td>08/20/2025 08:56:06 PM</td>\n",
       "      <td>EXEMPT - EMERGENCY VEHICLE</td>\n",
       "      <td>MOBILE BUS STOP</td>\n",
       "      <td>BX12+</td>\n",
       "      <td>40.860858</td>\n",
       "      <td>-73.889901</td>\n",
       "      <td>104015</td>\n",
       "      <td>EAST FORDHAM RD/3 AV</td>\n",
       "      <td>40.861137</td>\n",
       "      <td>-73.890431</td>\n",
       "      <td>POINT (-73.889901 40.860858)</td>\n",
       "      <td>POINT (-73.890431 40.861137)</td>\n",
       "    </tr>\n",
       "    <tr>\n",
       "      <th>1</th>\n",
       "      <td>489738493</td>\n",
       "      <td>90ac673c1863016e6930cfa6e0e9fd5ffcb7e6a74473fd...</td>\n",
       "      <td>08/20/2025 07:24:30 PM</td>\n",
       "      <td>08/20/2025 07:30:28 PM</td>\n",
       "      <td>TECHNICAL ISSUE/OTHER</td>\n",
       "      <td>MOBILE BUS STOP</td>\n",
       "      <td>BX12+</td>\n",
       "      <td>40.861937</td>\n",
       "      <td>-73.891962</td>\n",
       "      <td>103999</td>\n",
       "      <td>EAST FORDHAM RD/WEBSTER AV</td>\n",
       "      <td>40.861596</td>\n",
       "      <td>-73.891066</td>\n",
       "      <td>POINT (-73.891962 40.861937)</td>\n",
       "      <td>POINT (-73.891066 40.861596)</td>\n",
       "    </tr>\n",
       "    <tr>\n",
       "      <th>2</th>\n",
       "      <td>489737964</td>\n",
       "      <td>90ac673c1863016e6930cfa6e0e9fd5ffcb7e6a74473fd...</td>\n",
       "      <td>08/20/2025 06:56:14 PM</td>\n",
       "      <td>08/20/2025 07:05:29 PM</td>\n",
       "      <td>TECHNICAL ISSUE/OTHER</td>\n",
       "      <td>MOBILE BUS STOP</td>\n",
       "      <td>BX12+</td>\n",
       "      <td>40.862738</td>\n",
       "      <td>-73.902027</td>\n",
       "      <td>100796</td>\n",
       "      <td>WEST FORDHAM RD/UNIVERSITY AV</td>\n",
       "      <td>40.862703</td>\n",
       "      <td>-73.904256</td>\n",
       "      <td>POINT (-73.902027 40.862738)</td>\n",
       "      <td>POINT (-73.904256 40.862703)</td>\n",
       "    </tr>\n",
       "    <tr>\n",
       "      <th>3</th>\n",
       "      <td>489737555</td>\n",
       "      <td>bc696033f16f49939e68f5fde21331602e130d954ec70a...</td>\n",
       "      <td>08/20/2025 06:52:43 PM</td>\n",
       "      <td>08/20/2025 06:56:49 PM</td>\n",
       "      <td>EXEMPT - BUS/PARATRANSIT</td>\n",
       "      <td>MOBILE BUS STOP</td>\n",
       "      <td>BX12+</td>\n",
       "      <td>40.861388</td>\n",
       "      <td>-73.890929</td>\n",
       "      <td>103999</td>\n",
       "      <td>EAST FORDHAM RD/WEBSTER AV</td>\n",
       "      <td>40.861596</td>\n",
       "      <td>-73.891066</td>\n",
       "      <td>POINT (-73.890929 40.861388)</td>\n",
       "      <td>POINT (-73.891066 40.861596)</td>\n",
       "    </tr>\n",
       "    <tr>\n",
       "      <th>4</th>\n",
       "      <td>489736422</td>\n",
       "      <td>f39f90e1188b76c7b0b7675e2539e0a03c8f6ccc6b21d0...</td>\n",
       "      <td>08/20/2025 05:30:15 PM</td>\n",
       "      <td>08/20/2025 05:33:21 PM</td>\n",
       "      <td>TECHNICAL ISSUE/OTHER</td>\n",
       "      <td>MOBILE BUS STOP</td>\n",
       "      <td>BX12+</td>\n",
       "      <td>40.860971</td>\n",
       "      <td>-73.890124</td>\n",
       "      <td>104015</td>\n",
       "      <td>EAST FORDHAM RD/3 AV</td>\n",
       "      <td>40.861137</td>\n",
       "      <td>-73.890431</td>\n",
       "      <td>POINT (-73.890124 40.860971)</td>\n",
       "      <td>POINT (-73.890431 40.861137)</td>\n",
       "    </tr>\n",
       "  </tbody>\n",
       "</table>\n",
       "</div>"
      ],
      "text/plain": [
       "   Violation ID                                         Vehicle ID  \\\n",
       "0     489739752  6be26f24256f82d0efbf8da34f96c257d427aef7555f76...   \n",
       "1     489738493  90ac673c1863016e6930cfa6e0e9fd5ffcb7e6a74473fd...   \n",
       "2     489737964  90ac673c1863016e6930cfa6e0e9fd5ffcb7e6a74473fd...   \n",
       "3     489737555  bc696033f16f49939e68f5fde21331602e130d954ec70a...   \n",
       "4     489736422  f39f90e1188b76c7b0b7675e2539e0a03c8f6ccc6b21d0...   \n",
       "\n",
       "         First Occurrence         Last Occurrence            Violation Status  \\\n",
       "0  08/20/2025 08:51:35 PM  08/20/2025 08:56:06 PM  EXEMPT - EMERGENCY VEHICLE   \n",
       "1  08/20/2025 07:24:30 PM  08/20/2025 07:30:28 PM       TECHNICAL ISSUE/OTHER   \n",
       "2  08/20/2025 06:56:14 PM  08/20/2025 07:05:29 PM       TECHNICAL ISSUE/OTHER   \n",
       "3  08/20/2025 06:52:43 PM  08/20/2025 06:56:49 PM    EXEMPT - BUS/PARATRANSIT   \n",
       "4  08/20/2025 05:30:15 PM  08/20/2025 05:33:21 PM       TECHNICAL ISSUE/OTHER   \n",
       "\n",
       "    Violation Type Bus Route ID  Violation Latitude  Violation Longitude  \\\n",
       "0  MOBILE BUS STOP        BX12+           40.860858           -73.889901   \n",
       "1  MOBILE BUS STOP        BX12+           40.861937           -73.891962   \n",
       "2  MOBILE BUS STOP        BX12+           40.862738           -73.902027   \n",
       "3  MOBILE BUS STOP        BX12+           40.861388           -73.890929   \n",
       "4  MOBILE BUS STOP        BX12+           40.860971           -73.890124   \n",
       "\n",
       "   Stop ID                      Stop Name  Bus Stop Latitude  \\\n",
       "0   104015           EAST FORDHAM RD/3 AV          40.861137   \n",
       "1   103999     EAST FORDHAM RD/WEBSTER AV          40.861596   \n",
       "2   100796  WEST FORDHAM RD/UNIVERSITY AV          40.862703   \n",
       "3   103999     EAST FORDHAM RD/WEBSTER AV          40.861596   \n",
       "4   104015           EAST FORDHAM RD/3 AV          40.861137   \n",
       "\n",
       "   Bus Stop Longitude        Violation Georeference  \\\n",
       "0          -73.890431  POINT (-73.889901 40.860858)   \n",
       "1          -73.891066  POINT (-73.891962 40.861937)   \n",
       "2          -73.904256  POINT (-73.902027 40.862738)   \n",
       "3          -73.891066  POINT (-73.890929 40.861388)   \n",
       "4          -73.890431  POINT (-73.890124 40.860971)   \n",
       "\n",
       "          Bus Stop Georeference  \n",
       "0  POINT (-73.890431 40.861137)  \n",
       "1  POINT (-73.891066 40.861596)  \n",
       "2  POINT (-73.904256 40.862703)  \n",
       "3  POINT (-73.891066 40.861596)  \n",
       "4  POINT (-73.890431 40.861137)  "
      ]
     },
     "execution_count": 57,
     "metadata": {},
     "output_type": "execute_result"
    }
   ],
   "source": [
    "ace_violations.head()"
   ]
  },
  {
   "cell_type": "code",
   "execution_count": 58,
   "metadata": {},
   "outputs": [],
   "source": [
    "# Number of rows and columns\n",
    "#print(ace_violations.shape)\n",
    "\n",
    "#print(ace_violations.info())\n",
    "\n",
    "# Summary statistics for numeric columns\n",
    "#print(ace_violations.describe())\n",
    "\n",
    "# For object (string/categorical) columns\n",
    "#print(ace_violations.describe(include=\"object\"))\n",
    "\n",
    "# Count missing values per column\n",
    "#print(ace_violations.isna().sum())\n",
    "\n",
    "# Most common violation statuses\n",
    "#print(ace_violations[\"Violation Status\"].value_counts())\n",
    "\n",
    "# Most common violation types\n",
    "#print(ace_violations[\"Violation Type\"].value_counts())\n",
    "\n",
    "# Bus routes with most violations\n",
    "#print(ace_violations[\"Bus Route ID\"].value_counts().head(10))\n"
   ]
  },
  {
   "cell_type": "code",
   "execution_count": 59,
   "metadata": {},
   "outputs": [
    {
     "name": "stderr",
     "output_type": "stream",
     "text": [
      "/var/folders/r2/62xph3kj5rj_w51slp5lpvyc0000gn/T/ipykernel_62526/410756338.py:1: UserWarning: Could not infer format, so each element will be parsed individually, falling back to `dateutil`. To ensure parsing is consistent and as-expected, please specify a format.\n",
      "  ace_violations[\"First Occurrence\"] = pd.to_datetime(ace_violations[\"First Occurrence\"])\n",
      "/var/folders/r2/62xph3kj5rj_w51slp5lpvyc0000gn/T/ipykernel_62526/410756338.py:2: UserWarning: Could not infer format, so each element will be parsed individually, falling back to `dateutil`. To ensure parsing is consistent and as-expected, please specify a format.\n",
      "  ace_violations[\"Last Occurrence\"] = pd.to_datetime(ace_violations[\"Last Occurrence\"])\n"
     ]
    },
    {
     "name": "stdout",
     "output_type": "stream",
     "text": [
      "    quarter        date  violations\n",
      "0    2024Q2  2024-06-20         299\n",
      "1    2024Q2  2024-06-21         267\n",
      "2    2024Q2  2024-06-22         240\n",
      "3    2024Q2  2024-06-23          35\n",
      "4    2024Q2  2024-06-24         267\n",
      "..      ...         ...         ...\n",
      "422  2025Q3  2025-08-16          25\n",
      "423  2025Q3  2025-08-17          33\n",
      "424  2025Q3  2025-08-18          36\n",
      "425  2025Q3  2025-08-19          51\n",
      "426  2025Q3  2025-08-20          27\n",
      "\n",
      "[427 rows x 3 columns]\n"
     ]
    }
   ],
   "source": [
    "ace_violations[\"First Occurrence\"] = pd.to_datetime(ace_violations[\"First Occurrence\"])\n",
    "ace_violations[\"Last Occurrence\"] = pd.to_datetime(ace_violations[\"Last Occurrence\"])\n",
    "\n",
    "# Convert First Occurrence to datetime\n",
    "ace_violations[\"First Occurrence\"] = pd.to_datetime(ace_violations[\"First Occurrence\"])\n",
    "\n",
    "# Filter for dates starting from 2024-06-20\n",
    "ace_violations = ace_violations[ace_violations[\"First Occurrence\"] >= \"2024-06-20\"]\n",
    "\n",
    "# Extract useful time parts\n",
    "ace_violations[\"date\"] = ace_violations[\"First Occurrence\"].dt.date\n",
    "ace_violations[\"quarter\"] = ace_violations[\"First Occurrence\"].dt.to_period(\"Q\")  # e.g. 2024Q2, 2024Q3\n",
    "\n",
    "# Count violations per day per quarter\n",
    "violations_per_day = (\n",
    "    ace_violations.groupby([\"quarter\", \"date\"])\n",
    "    .size()\n",
    "    .reset_index(name=\"violations\")\n",
    ")\n",
    "\n",
    "# Sort results\n",
    "violations_per_day = violations_per_day.sort_values([\"quarter\", \"date\"])\n",
    "\n",
    "print(violations_per_day)\n"
   ]
  },
  {
   "cell_type": "code",
   "execution_count": 60,
   "metadata": {},
   "outputs": [
    {
     "name": "stdout",
     "output_type": "stream",
     "text": [
      "  quarter  avg_violations_per_day  days_observed\n",
      "1  2024Q3                     309             92\n",
      "2  2024Q4                     297             92\n",
      "3  2025Q1                     230             90\n",
      "4  2025Q2                     228             91\n",
      "5  2025Q3                     157             51\n"
     ]
    }
   ],
   "source": [
    "# Average violations per day (int) + number of days observed in each quarter\n",
    "avg_violations_per_quarter = (\n",
    "    violations_per_day.groupby(\"quarter\")[\"violations\"]\n",
    "    .agg(avg_per_day=lambda x: int(round(x.mean())),   # average as int\n",
    "         days_observed=\"count\")                        # number of days with data\n",
    "    .reset_index()\n",
    "    .rename(columns={\"avg_per_day\": \"avg_violations_per_day\"})\n",
    ")\n",
    "\n",
    "#print(avg_violations_per_quarter)\n",
    "# Drop the first quarter (2024Q2)\n",
    "avg_violations_per_quarter = avg_violations_per_quarter[avg_violations_per_quarter[\"quarter\"] != \"2024Q2\"]\n",
    "\n",
    "print(avg_violations_per_quarter)"
   ]
  },
  {
   "cell_type": "code",
   "execution_count": 31,
   "metadata": {},
   "outputs": [],
   "source": [
    "\n",
    "# Get the absolute path to the project root\n",
    "project_root = os.path.abspath(os.path.join(os.getcwd(), \"..\"))\n",
    "\n",
    "# Construct the full path to the output file\n",
    "output_path = os.path.join(project_root, \"data\", \"processed\", \"violations_df.csv\")\n",
    "\n",
    "# Save the CSV\n",
    "avg_violations_per_quarter.to_csv(output_path, index=False)\n"
   ]
  },
  {
   "cell_type": "code",
   "execution_count": 61,
   "metadata": {},
   "outputs": [
    {
     "data": {
      "image/png": "[encoded data removed]",
      "text/plain": [
       "<Figure size 800x500 with 1 Axes>"
      ]
     },
     "metadata": {},
     "output_type": "display_data"
    }
   ],
   "source": [
    "import matplotlib.pyplot as plt\n",
    "\n",
    "# Example data\n",
    "import pandas as pd\n",
    "avg_violations_per_quarter = pd.DataFrame({\n",
    "    \"quarter\": [\"2024Q3\", \"2024Q4\", \"2025Q1\", \"2025Q2\", \"2025Q3\"],\n",
    "    \"avg_violations_per_day\": [309, 297, 230, 228, 157],\n",
    "    \"days_observed\": [92, 92, 90, 91, 51]\n",
    "})\n",
    "\n",
    "# Plot\n",
    "plt.figure(figsize=(8,5))\n",
    "plt.bar(avg_violations_per_quarter[\"quarter\"], avg_violations_per_quarter[\"avg_violations_per_day\"], color=\"#FF9B00\")\n",
    "plt.xlabel(\"Quarter\")\n",
    "plt.ylabel(\"Average Violations per Day\")\n",
    "plt.title(\"Average Violations per Day by Quarter\")\n",
    "plt.xticks(rotation=45)\n",
    "plt.grid(axis=\"y\", linestyle=\"--\", alpha=0.7)\n",
    "plt.tight_layout()\n",
    "plt.show()\n"
   ]
  },
  {
   "cell_type": "code",
   "execution_count": 62,
   "metadata": {},
   "outputs": [
    {
     "data": {
      "image/png": "[encoded data removed]",
      "text/plain": [
       "<Figure size 800x500 with 1 Axes>"
      ]
     },
     "metadata": {},
     "output_type": "display_data"
    }
   ],
   "source": [
    "import matplotlib.pyplot as plt\n",
    "\n",
    "# Example data\n",
    "import pandas as pd\n",
    "avg_violations_per_quarter = pd.DataFrame({\n",
    "    \"quarter\": [\"2024Q3\", \"2024Q4\", \"2025Q1\", \"2025Q2\", \"2025Q3\"],\n",
    "    \"avg_violations_per_day\": [309, 297, 230, 228, 157],\n",
    "    \"days_observed\": [92, 92, 90, 91, 51]\n",
    "})\n",
    "\n",
    "# Set colors: gray for all except last quarter\n",
    "colors = [\"gray\"] * (len(avg_violations_per_quarter) - 1) + [\"#FF9B00\"]\n",
    "\n",
    "# Plot\n",
    "plt.figure(figsize=(8,5))\n",
    "plt.bar(avg_violations_per_quarter[\"quarter\"], \n",
    "        avg_violations_per_quarter[\"avg_violations_per_day\"], \n",
    "        color=colors)\n",
    "plt.xlabel(\"Quarter\")\n",
    "plt.ylabel(\"Average Violations per Day\")\n",
    "plt.title(\"Average Violations per Day by Quarter\")\n",
    "plt.xticks(rotation=45)\n",
    "plt.grid(axis=\"y\", linestyle=\"--\", alpha=0.7)\n",
    "plt.tight_layout()\n",
    "plt.show()\n"
   ]
  },
  {
   "cell_type": "code",
   "execution_count": null,
   "metadata": {},
   "outputs": [],
   "source": []
  },
  {
   "cell_type": "code",
   "execution_count": null,
   "metadata": {},
   "outputs": [],
   "source": []
  },
  {
   "cell_type": "code",
   "execution_count": null,
   "metadata": {},
   "outputs": [],
   "source": []
  },
  {
   "cell_type": "code",
   "execution_count": null,
   "metadata": {},
   "outputs": [],
   "source": [
    "#Bus Speeds"
   ]
  },
  {
   "cell_type": "code",
   "execution_count": null,
   "metadata": {},
   "outputs": [],
   "source": [
    "#data/raw/bus_speed_2020_2024.csv\n",
    "#data/raw/bus_speed_2025.csv"
   ]
  },
  {
   "cell_type": "code",
   "execution_count": 4,
   "metadata": {},
   "outputs": [],
   "source": [
    "# Path to data folder relative to the notebook\n",
    "DATA_DIR = os.path.join(\"..\", \"data\", \"raw\")"
   ]
  },
  {
   "cell_type": "code",
   "execution_count": 5,
   "metadata": {},
   "outputs": [],
   "source": [
    "bus_speed_2020_2024 = pd.read_csv(os.path.join(DATA_DIR, \"bus_speed_2020_2024.csv\"))\n",
    "bus_speed_2025 = pd.read_csv(os.path.join(DATA_DIR, \"bus_speed_2025.csv\"))"
   ]
  },
  {
   "cell_type": "code",
   "execution_count": 6,
   "metadata": {},
   "outputs": [
    {
     "name": "stdout",
     "output_type": "stream",
     "text": [
      "(266, 9)\n",
      "        month borough  day_type trip_type route_id    period  total_mileage  \\\n",
      "0  2020-01-01   Bronx         1       SBS    BX12+  Off-Peak      33721.812   \n",
      "1  2020-01-01   Bronx         1       SBS    BX12+      Peak      16727.904   \n",
      "2  2020-01-01   Bronx         2       SBS    BX12+  Off-Peak      11895.368   \n",
      "3  2020-01-01   Bronx         2       SBS    BX12+      Peak       5410.110   \n",
      "4  2020-02-01   Bronx         1       SBS    BX12+  Off-Peak      30151.406   \n",
      "\n",
      "   total_operating_time  average_speed  \n",
      "0                  3532       9.546405  \n",
      "1                  1930       8.666668  \n",
      "2                  1187      10.019906  \n",
      "3                   547       9.887283  \n",
      "4                  3167       9.518541  \n"
     ]
    }
   ],
   "source": [
    "# Concatenate\n",
    "bus_speed_all = pd.concat([bus_speed_2020_2024, bus_speed_2025], ignore_index=True)\n",
    "\n",
    "print(bus_speed_all.shape)\n",
    "print(bus_speed_all.head())"
   ]
  },
  {
   "cell_type": "code",
   "execution_count": 9,
   "metadata": {},
   "outputs": [
    {
     "name": "stdout",
     "output_type": "stream",
     "text": [
      "   quarter  avg_speed\n",
      "0   2023Q1       9.63\n",
      "1   2023Q2       9.34\n",
      "2   2023Q3       9.36\n",
      "3   2023Q4       9.28\n",
      "4   2024Q1       9.57\n",
      "5   2024Q2       9.28\n",
      "6   2024Q3       9.38\n",
      "7   2024Q4       9.30\n",
      "8   2025Q1       9.72\n",
      "9   2025Q2       9.30\n",
      "10  2025Q3       9.39\n"
     ]
    },
    {
     "data": {
      "image/png": "[encoded data removed]",
      "text/plain": [
       "<Figure size 1000x500 with 1 Axes>"
      ]
     },
     "metadata": {},
     "output_type": "display_data"
    }
   ],
   "source": [
    "# Ensure month is datetime\n",
    "bus_speed_all[\"month\"] = pd.to_datetime(bus_speed_all[\"month\"])\n",
    "\n",
    "# Filter from 2023 onward\n",
    "bus_speed_all = bus_speed_all[bus_speed_all[\"month\"] >= \"2023-01-01\"]\n",
    "\n",
    "# Add quarter column\n",
    "bus_speed_all[\"quarter\"] = bus_speed_all[\"month\"].dt.to_period(\"Q\")\n",
    "\n",
    "# Compute average speed per quarter\n",
    "avg_speed_per_quarter = (\n",
    "    bus_speed_all.groupby(\"quarter\")[\"average_speed\"]\n",
    "    .mean()\n",
    "    .round(2)   # round to 2 decimals for readability\n",
    "    .reset_index(name=\"avg_speed\")\n",
    ")\n",
    "\n",
    "print(avg_speed_per_quarter)\n",
    "\n",
    "import matplotlib.pyplot as plt\n",
    "import pandas as pd\n",
    "\n",
    "# Example data\n",
    "avg_speed_per_quarter = pd.DataFrame({\n",
    "    \"quarter\": [\"2023Q1\",\"2023Q2\",\"2023Q3\",\"2023Q4\",\"2024Q1\",\"2024Q2\",\"2024Q3\",\"2024Q4\",\"2025Q1\",\"2025Q2\",\"2025Q3\"],\n",
    "    \"avg_speed\": [9.63,9.34,9.36,9.28,9.57,9.28,9.38,9.30,9.72,9.30,9.39]\n",
    "})\n",
    "\n",
    "# Create the plot\n",
    "plt.figure(figsize=(10,5))\n",
    "\n",
    "# Plot line\n",
    "plt.plot(avg_speed_per_quarter[\"quarter\"], avg_speed_per_quarter[\"avg_speed\"], color=\"gray\", marker='o')\n",
    "\n",
    "# Highlight last quarter\n",
    "plt.plot(avg_speed_per_quarter[\"quarter\"].iloc[-1], \n",
    "         avg_speed_per_quarter[\"avg_speed\"].iloc[-1], \n",
    "         marker='o', color=\"#FF9B00\", markersize=10)\n",
    "\n",
    "# Add vertical line at 2024Q3\n",
    "plt.axvline(x=\"2024Q3\", color='blue', linestyle='--', alpha=0.7)\n",
    "plt.text(\"2024Q3\", plt.ylim()[1]-0.1, \"Ace Program starts\", rotation=90, verticalalignment='top', color='blue')\n",
    "\n",
    "# Labels and title\n",
    "plt.xlabel(\"Quarter\")\n",
    "plt.ylabel(\"Average Speed\")\n",
    "plt.title(\"Average Bus Speed per Quarter\")\n",
    "plt.xticks(rotation=45)\n",
    "plt.grid(axis=\"y\", linestyle=\"--\", alpha=0.7)\n",
    "plt.tight_layout()\n",
    "plt.show()\n",
    "\n"
   ]
  },
  {
   "cell_type": "code",
   "execution_count": 38,
   "metadata": {},
   "outputs": [
    {
     "name": "stdout",
     "output_type": "stream",
     "text": [
      "Before period count: 72, mean=9.41\n",
      "After period count:  52, mean=9.42\n",
      "T-statistic: -0.148, P-value: 0.8830\n"
     ]
    }
   ],
   "source": [
    "from scipy import stats\n",
    "import pandas as pd\n",
    "\n",
    "# Ensure datetime\n",
    "bus_speed_all[\"month\"] = pd.to_datetime(bus_speed_all[\"month\"])\n",
    "\n",
    "# Split before vs after June 20, 2024\n",
    "before = bus_speed_all[bus_speed_all[\"month\"] < \"2024-06-20\"][\"average_speed\"]\n",
    "after = bus_speed_all[bus_speed_all[\"month\"] >= \"2024-06-20\"][\"average_speed\"]\n",
    "\n",
    "print(f\"Before period count: {len(before)}, mean={before.mean():.2f}\")\n",
    "print(f\"After period count:  {len(after)}, mean={after.mean():.2f}\")\n",
    "\n",
    "# Welch's t-test\n",
    "t_stat, p_value = stats.ttest_ind(before, after, equal_var=False, nan_policy=\"omit\")\n",
    "\n",
    "print(f\"T-statistic: {t_stat:.3f}, P-value: {p_value:.4f}\")\n"
   ]
  },
  {
   "cell_type": "code",
   "execution_count": 50,
   "metadata": {},
   "outputs": [],
   "source": [
    "'''\n",
    "What you have\n",
    "Before period: 72 observations, average speed = 9.41\n",
    "After period: 52 observations, average speed = 9.42\n",
    "t-statistic = -0.148 (very close to 0 → means the two groups are almost identical)\n",
    "p-value = 0.8830 (much larger than 0.05)\n",
    "Interpretation\n",
    "The means (9.41 vs 9.42) are basically the same — a difference of 0.01 mph, which is negligible.\n",
    "The p-value (0.883) means there’s an 88% chance of seeing a difference this small (or smaller) just due to random variation, if the true means were equal.\n",
    "Since p >> 0.05, you cannot reject the null hypothesis → there is no statistically significant difference in average speeds before and after 6/20/2024.\n",
    "In plain language\n",
    "The BX12+ bus did not statistically speed up or slow down after congestion pricing went into effect. Speeds are essentially the same.\n",
    "'''\n",
    "\n",
    "\n",
    "# Get the absolute path to the project root\n",
    "project_root = os.path.abspath(os.path.join(os.getcwd(), \"..\"))\n",
    "\n",
    "# Construct the full path to the output file\n",
    "output_path = os.path.join(project_root, \"data\", \"processed\", \"avg_speed_per_quarter.csv\")\n",
    "\n",
    "# Save the CSV\n",
    "avg_speed_per_quarter.to_csv(output_path, index=False)\n"
   ]
  },
  {
   "cell_type": "code",
   "execution_count": null,
   "metadata": {},
   "outputs": [],
   "source": []
  },
  {
   "cell_type": "code",
   "execution_count": 39,
   "metadata": {},
   "outputs": [],
   "source": [
    "#Bus Wait Assessment\n",
    "#Wait Assessment measures how evenly buses are spaced.\n",
    "#Wait Assessment (WA) measures how evenly buses are spaced. It is defined as the percentage \n",
    "#of actual intervals between buses that are no more than three minutes over the scheduled \n",
    "#interval for the morning (7 a.m. to 9 a.m.) and afternoon (4 p.m. to 7 p.m.) peak periods \n",
    "#and no more than five minutes\n",
    "#over the scheduled interval for the rest of the day (off-peak).\n",
    "\n",
    "#data/raw/wait_assessment_2020_2024.csv\n",
    "#data/raw/wait_assessment_2025.csv"
   ]
  },
  {
   "cell_type": "code",
   "execution_count": 40,
   "metadata": {},
   "outputs": [],
   "source": [
    "wait_assessment_2020_2024 = pd.read_csv(os.path.join(DATA_DIR, \"wait_assessment_2020_2024.csv\"))\n",
    "wait_assessment_2025 = pd.read_csv(os.path.join(DATA_DIR, \"wait_assessment_2025.csv\"))"
   ]
  },
  {
   "cell_type": "code",
   "execution_count": 41,
   "metadata": {},
   "outputs": [
    {
     "name": "stdout",
     "output_type": "stream",
     "text": [
      "(268, 9)\n",
      "        month borough  day_type trip_type route_id    period  \\\n",
      "0  2020-01-01   Bronx         1       SBS    BX12+  Off-Peak   \n",
      "1  2020-01-01   Bronx         1       SBS    BX12+      Peak   \n",
      "2  2020-01-01   Bronx         2       SBS    BX12+  Off-Peak   \n",
      "3  2020-01-01   Bronx         2       SBS    BX12+      Peak   \n",
      "4  2020-02-01   Bronx         1       SBS    BX12+  Off-Peak   \n",
      "\n",
      "   number_of_trips_passing_wait  number_of_scheduled_trips  wait_assessment  \n",
      "0                          5290                       6854         0.771812  \n",
      "1                          2411                       3671         0.656769  \n",
      "2                          1912                       2316         0.825561  \n",
      "3                           842                       1074         0.783985  \n",
      "4                          4724                       6118         0.772148  \n"
     ]
    }
   ],
   "source": [
    "# Concatenate\n",
    "wait_assessment_all = pd.concat([wait_assessment_2020_2024, wait_assessment_2025], ignore_index=True)\n",
    "\n",
    "print(wait_assessment_all.shape)\n",
    "print(wait_assessment_all.head())"
   ]
  },
  {
   "cell_type": "code",
   "execution_count": 42,
   "metadata": {},
   "outputs": [
    {
     "name": "stdout",
     "output_type": "stream",
     "text": [
      "   quarter  wait_assessment\n",
      "0   2023Q1            0.814\n",
      "1   2023Q2            0.768\n",
      "2   2023Q3            0.742\n",
      "3   2023Q4            0.742\n",
      "4   2024Q1            0.750\n",
      "5   2024Q2            0.731\n",
      "6   2024Q3            0.700\n",
      "7   2024Q4            0.706\n",
      "8   2025Q1            0.745\n",
      "9   2025Q2            0.693\n",
      "10  2025Q3            0.681\n"
     ]
    }
   ],
   "source": [
    "# Ensure 'month' is datetime\n",
    "wait_assessment_all['month'] = pd.to_datetime(wait_assessment_all['month'])\n",
    "\n",
    "# Filter from 2023 onward\n",
    "wait_assessment_all = wait_assessment_all[wait_assessment_all['month'] >= \"2023-01-01\"]\n",
    "\n",
    "# Extract quarter\n",
    "wait_assessment_all['quarter'] = wait_assessment_all['month'].dt.to_period('Q')\n",
    "\n",
    "# Compute average wait assessment per quarter\n",
    "avg_wait_per_quarter = (\n",
    "    wait_assessment_all.groupby('quarter')['wait_assessment']\n",
    "    .mean()\n",
    "    .reset_index()\n",
    ")\n",
    "\n",
    "# Optional: convert to float rounded to 3 decimals\n",
    "avg_wait_per_quarter['wait_assessment'] = avg_wait_per_quarter['wait_assessment'].round(3)\n",
    "\n",
    "# Sort by quarter\n",
    "avg_wait_per_quarter = avg_wait_per_quarter.sort_values('quarter')\n",
    "\n",
    "print(avg_wait_per_quarter)\n"
   ]
  },
  {
   "cell_type": "code",
   "execution_count": 43,
   "metadata": {},
   "outputs": [
    {
     "name": "stdout",
     "output_type": "stream",
     "text": [
      "Before period count: 72, mean=0.758\n",
      "After period count:  52, mean=0.709\n",
      "T-statistic: 4.441, P-value: 0.0000\n"
     ]
    }
   ],
   "source": [
    "from scipy.stats import ttest_ind\n",
    "import pandas as pd\n",
    "\n",
    "# Ensure 'month' is datetime\n",
    "wait_assessment_all['month'] = pd.to_datetime(wait_assessment_all['month'])\n",
    "\n",
    "# Split before and after 6/20/2024\n",
    "before = wait_assessment_all[wait_assessment_all['month'] < \"2024-06-20\"]['wait_assessment']\n",
    "after = wait_assessment_all[wait_assessment_all['month'] >= \"2024-06-20\"]['wait_assessment']\n",
    "\n",
    "# Perform two-sample t-test (assuming unequal variances)\n",
    "t_stat, p_val = ttest_ind(before, after, equal_var=False)\n",
    "\n",
    "# Summary statistics\n",
    "print(f\"Before period count: {len(before)}, mean={before.mean():.3f}\")\n",
    "print(f\"After period count:  {len(after)}, mean={after.mean():.3f}\")\n",
    "print(f\"T-statistic: {t_stat:.3f}, P-value: {p_val:.4f}\")\n"
   ]
  },
  {
   "cell_type": "code",
   "execution_count": 51,
   "metadata": {},
   "outputs": [],
   "source": [
    "'''\n",
    "Perfect — here’s how to interpret that:\n",
    "Before mean: 0.758\n",
    "After mean: 0.709 → the average wait assessment decreased after 6/20/2024.\n",
    "T-statistic: 4.441 → this is a fairly large value, indicating the difference between \n",
    "before and after is many standard errors apart.\n",
    "P-value: 0.0000 → essentially 0, meaning the change is highly statistically significant.\n",
    "Conclusion: The wait assessment metric has significantly decreased after 6/20/2024. \n",
    "This suggests that the buses may be arriving closer to schedule or passengers are waiting less, \n",
    "depending on how the metric is defined.\n",
    "'''\n",
    "# Get the absolute path to the project root\n",
    "project_root = os.path.abspath(os.path.join(os.getcwd(), \"..\"))\n",
    "\n",
    "# Construct the full path to the output file\n",
    "output_path = os.path.join(project_root, \"data\", \"processed\", \"avg_wait_per_quarter.csv\")\n",
    "\n",
    "# Save the CSV\n",
    "avg_wait_per_quarter.to_csv(output_path, index=False)\n"
   ]
  },
  {
   "cell_type": "code",
   "execution_count": null,
   "metadata": {},
   "outputs": [],
   "source": []
  },
  {
   "cell_type": "code",
   "execution_count": 44,
   "metadata": {},
   "outputs": [],
   "source": [
    "#Journey Focused Metrics\n",
    "#data/raw/journey_metrics_2020_2024.csv\n",
    "#data/raw/journey_metrics_2025.csv\n",
    "\n",
    "'''\n",
    "Additional Bus Stop Time (ABST) is the average added time that customers wait at a stop for a\n",
    "bus, compared with their scheduled wait time. The measure assumes customers arrive at the\n",
    "bus stop uniformly, except for routes with longer headways, where customers arrive more\n",
    "closely aligned to the schedule. ABST is sometimes referred to as Excess Wait Time.\n",
    "\n",
    "Additional Travel Time (ATT) is the average additional time customers spend onboard the bus\n",
    "compared to the schedule. ATT is sometimes referred to as Excess In-Vehicle Travel Time.\n",
    "\n",
    "Customer Journey Time Performance (CJTP) measures the percentage of customers who\n",
    "complete their journey (ABST + ATT) within five minutes of the scheduled time. CJTP is\n",
    "sometimes referred to as Excess Journey Time.\n",
    "'''"
   ]
  },
  {
   "cell_type": "code",
   "execution_count": 45,
   "metadata": {},
   "outputs": [],
   "source": [
    "journey_metrics_2020_2024 = pd.read_csv(os.path.join(DATA_DIR, \"journey_metrics_2020_2024.csv\"))\n",
    "journey_metrics_2025 = pd.read_csv(os.path.join(DATA_DIR, \"journey_metrics_2025.csv\"))"
   ]
  },
  {
   "cell_type": "code",
   "execution_count": 46,
   "metadata": {},
   "outputs": [
    {
     "name": "stdout",
     "output_type": "stream",
     "text": [
      "(124, 9)\n",
      "        month borough trip_type route_id    period  number_of_customers  \\\n",
      "0  2020-01-01   Bronx       SBS    BX12+  Off-Peak            421052.97   \n",
      "1  2020-01-01   Bronx       SBS    BX12+      Peak            294862.25   \n",
      "2  2020-02-01   Bronx       SBS    BX12+  Off-Peak            359577.62   \n",
      "3  2020-02-01   Bronx       SBS    BX12+      Peak            254945.81   \n",
      "4  2020-03-01   Bronx       SBS    BX12+  Off-Peak            190429.47   \n",
      "\n",
      "   additional_bus_stop_time  additional_travel_time  \\\n",
      "0                  1.647969                1.151022   \n",
      "1                  1.747048                1.749989   \n",
      "2                  1.588225                1.274502   \n",
      "3                  1.789825                2.002485   \n",
      "4                  1.768806                1.487573   \n",
      "\n",
      "   customer_journey_time_performance  \n",
      "0                           0.691432  \n",
      "1                           0.646283  \n",
      "2                           0.687080  \n",
      "3                           0.627390  \n",
      "4                           0.659353  \n"
     ]
    }
   ],
   "source": [
    "# Concatenate\n",
    "journey_metrics_all = pd.concat([journey_metrics_2020_2024, journey_metrics_2025], ignore_index=True)\n",
    "\n",
    "print(journey_metrics_all.shape)\n",
    "print(journey_metrics_all.head())"
   ]
  },
  {
   "cell_type": "code",
   "execution_count": 47,
   "metadata": {},
   "outputs": [
    {
     "name": "stdout",
     "output_type": "stream",
     "text": [
      "   quarter  additional_bus_stop_time  additional_travel_time  \\\n",
      "0   2023Q1                     1.388                   1.479   \n",
      "1   2023Q2                     1.790                   1.858   \n",
      "2   2023Q3                     2.094                   1.464   \n",
      "3   2023Q4                     2.762                   1.847   \n",
      "4   2024Q1                     2.303                   1.535   \n",
      "5   2024Q2                     2.418                   1.920   \n",
      "6   2024Q3                     2.671                   1.417   \n",
      "7   2024Q4                     2.881                   1.662   \n",
      "8   2025Q1                     2.101                   1.047   \n",
      "9   2025Q2                     2.754                   1.992   \n",
      "10  2025Q3                     2.470                   1.029   \n",
      "\n",
      "    customer_journey_time_performance  \n",
      "0                               0.688  \n",
      "1                               0.639  \n",
      "2                               0.656  \n",
      "3                               0.621  \n",
      "4                               0.645  \n",
      "5                               0.619  \n",
      "6                               0.641  \n",
      "7                               0.615  \n",
      "8                               0.688  \n",
      "9                               0.583  \n",
      "10                              0.651  \n"
     ]
    },
    {
     "name": "stderr",
     "output_type": "stream",
     "text": [
      "/var/folders/r2/62xph3kj5rj_w51slp5lpvyc0000gn/T/ipykernel_62526/1616330503.py:10: SettingWithCopyWarning: \n",
      "A value is trying to be set on a copy of a slice from a DataFrame.\n",
      "Try using .loc[row_indexer,col_indexer] = value instead\n",
      "\n",
      "See the caveats in the documentation: https://pandas.pydata.org/pandas-docs/stable/user_guide/indexing.html#returning-a-view-versus-a-copy\n",
      "  journey_metrics_all_2023[\"quarter\"] = journey_metrics_all_2023[\"month\"].dt.to_period(\"Q\")\n"
     ]
    }
   ],
   "source": [
    "import pandas as pd\n",
    "\n",
    "# Ensure month is datetime\n",
    "journey_metrics_all[\"month\"] = pd.to_datetime(journey_metrics_all[\"month\"])\n",
    "\n",
    "# Filter for 2023 onward\n",
    "journey_metrics_all_2023 = journey_metrics_all[journey_metrics_all[\"month\"] >= \"2023-01-01\"]\n",
    "\n",
    "# Extract quarter\n",
    "journey_metrics_all_2023[\"quarter\"] = journey_metrics_all_2023[\"month\"].dt.to_period(\"Q\")\n",
    "\n",
    "# Compute average metrics per quarter\n",
    "quarterly_metrics = (\n",
    "    journey_metrics_all_2023.groupby(\"quarter\")[[\"additional_bus_stop_time\", \n",
    "                                                  \"additional_travel_time\", \n",
    "                                                  \"customer_journey_time_performance\"]]\n",
    "    .mean()\n",
    "    .reset_index()\n",
    ")\n",
    "\n",
    "# Optional: round for readability\n",
    "quarterly_metrics[[\"additional_bus_stop_time\", \n",
    "                   \"additional_travel_time\", \n",
    "                   \"customer_journey_time_performance\"]] = quarterly_metrics[\n",
    "    [\"additional_bus_stop_time\", \"additional_travel_time\", \"customer_journey_time_performance\"]].round(3)\n",
    "\n",
    "print(quarterly_metrics)\n"
   ]
  },
  {
   "cell_type": "code",
   "execution_count": 48,
   "metadata": {},
   "outputs": [
    {
     "name": "stdout",
     "output_type": "stream",
     "text": [
      "   quarter  additional_bus_stop_time\n",
      "0   2023Q1                     1.388\n",
      "1   2023Q2                     1.790\n",
      "2   2023Q3                     2.094\n",
      "3   2023Q4                     2.762\n",
      "4   2024Q1                     2.303\n",
      "5   2024Q2                     2.418\n",
      "6   2024Q3                     2.671\n",
      "7   2024Q4                     2.881\n",
      "8   2025Q1                     2.101\n",
      "9   2025Q2                     2.754\n",
      "10  2025Q3                     2.470\n",
      "   quarter  additional_travel_time\n",
      "0   2023Q1                   1.479\n",
      "1   2023Q2                   1.858\n",
      "2   2023Q3                   1.464\n",
      "3   2023Q4                   1.847\n",
      "4   2024Q1                   1.535\n",
      "5   2024Q2                   1.920\n",
      "6   2024Q3                   1.417\n",
      "7   2024Q4                   1.662\n",
      "8   2025Q1                   1.047\n",
      "9   2025Q2                   1.992\n",
      "10  2025Q3                   1.029\n",
      "   quarter  customer_journey_time_performance\n",
      "0   2023Q1                              0.688\n",
      "1   2023Q2                              0.639\n",
      "2   2023Q3                              0.656\n",
      "3   2023Q4                              0.621\n",
      "4   2024Q1                              0.645\n",
      "5   2024Q2                              0.619\n",
      "6   2024Q3                              0.641\n",
      "7   2024Q4                              0.615\n",
      "8   2025Q1                              0.688\n",
      "9   2025Q2                              0.583\n",
      "10  2025Q3                              0.651\n"
     ]
    }
   ],
   "source": [
    "# Original dataframe\n",
    "df = quarterly_metrics  # or the dataframe you just printed\n",
    "\n",
    "# Separate dataframes\n",
    "additional_bus_stop_time_df = df[[\"quarter\", \"additional_bus_stop_time\"]].copy()\n",
    "additional_travel_time_df = df[[\"quarter\", \"additional_travel_time\"]].copy()\n",
    "customer_journey_time_performance_df = df[[\"quarter\", \"customer_journey_time_performance\"]].copy()\n",
    "\n",
    "# Optional: print to check\n",
    "print(additional_bus_stop_time_df)\n",
    "print(additional_travel_time_df)\n",
    "print(customer_journey_time_performance_df)\n"
   ]
  },
  {
   "cell_type": "code",
   "execution_count": 49,
   "metadata": {},
   "outputs": [
    {
     "name": "stdout",
     "output_type": "stream",
     "text": [
      "additional_bus_stop_time -> Before count: 98, After count: 26\n",
      "Before mean: 1.990, After mean: 2.591\n",
      "T-statistic: -5.133, P-value: 0.0000\n",
      "\n",
      "additional_travel_time -> Before count: 98, After count: 26\n",
      "Before mean: 1.507, After mean: 1.491\n",
      "T-statistic: 0.120, P-value: 0.9051\n",
      "\n",
      "customer_journey_time_performance -> Before count: 98, After count: 26\n",
      "Before mean: 0.660, After mean: 0.633\n",
      "T-statistic: 2.196, P-value: 0.0338\n",
      "\n"
     ]
    }
   ],
   "source": [
    "import pandas as pd\n",
    "from scipy.stats import ttest_ind\n",
    "\n",
    "# Convert month to datetime\n",
    "journey_metrics_all['month'] = pd.to_datetime(journey_metrics_all['month'])\n",
    "\n",
    "# Split into before and after 6/20/2024\n",
    "before = journey_metrics_all[journey_metrics_all['month'] < \"2024-06-20\"]\n",
    "after = journey_metrics_all[journey_metrics_all['month'] >= \"2024-06-20\"]\n",
    "\n",
    "# Metrics to test\n",
    "metrics = [\n",
    "    \"additional_bus_stop_time\",\n",
    "    \"additional_travel_time\",\n",
    "    \"customer_journey_time_performance\"\n",
    "]\n",
    "\n",
    "# Run t-tests\n",
    "for metric in metrics:\n",
    "    t_stat, p_val = ttest_ind(before[metric], after[metric], equal_var=False)  # Welch's t-test\n",
    "    print(f\"{metric} -> Before count: {len(before)}, After count: {len(after)}\")\n",
    "    print(f\"Before mean: {before[metric].mean():.3f}, After mean: {after[metric].mean():.3f}\")\n",
    "    print(f\"T-statistic: {t_stat:.3f}, P-value: {p_val:.4f}\\n\")\n"
   ]
  },
  {
   "cell_type": "code",
   "execution_count": null,
   "metadata": {},
   "outputs": [],
   "source": [
    "'''\n",
    "1. additional_bus_stop_time\n",
    "Before mean: 1.990\n",
    "After mean: 2.591\n",
    "T-statistic: -5.133\n",
    "P-value: 0.0000\n",
    "Interpretation:\n",
    "The mean additional bus stop time increased from ~1.99 to ~2.59 after 6/20/2024. \n",
    "The p-value is essentially 0, which is much less than 0.05. This means the increase \n",
    "is statistically significant. In practical terms, buses are spending more time at stops after \n",
    "this date.\n",
    "\n",
    "\n",
    "2. additional_travel_time\n",
    "Before mean: 1.507\n",
    "After mean: 1.491\n",
    "T-statistic: 0.120\n",
    "P-value: 0.9051\n",
    "Interpretation:\n",
    "The mean additional travel time is nearly the same before and after (1.507 vs 1.491), \n",
    "and the p-value is very high (~0.91). This means there is no statistically significant \n",
    "change in additional travel time.\n",
    "\n",
    "3. customer_journey_time_performance\n",
    "Before mean: 0.660\n",
    "After mean: 0.633\n",
    "T-statistic: 2.196\n",
    "P-value: 0.0338\n",
    "\n",
    "Interpretation:\n",
    "The mean customer journey time performance decreased from 0.660 to 0.633. The p-value (~0.034) is less than 0.05, indicating this decrease is statistically significant. In practice, the overall journey performance for customers worsened slightly after 6/20/2024.\n",
    "\n",
    "Summary:\n",
    "Significant increase: additional_bus_stop_time → buses spend more time at stops.\n",
    "No change: additional_travel_time → travel time itself did not change.\n",
    "Significant decrease: customer_journey_time_performance → customers’ journey performance slightly worsened.\n",
    "'''"
   ]
  },
  {
   "cell_type": "code",
   "execution_count": 52,
   "metadata": {},
   "outputs": [],
   "source": [
    "# Get the absolute path to the project root\n",
    "project_root = os.path.abspath(os.path.join(os.getcwd(), \"..\"))\n",
    "\n",
    "# Construct the full path to the output file\n",
    "output_path = os.path.join(project_root, \"data\", \"processed\", \"additional_bus_stop_time_df.csv\")\n",
    "# Save the CSV\n",
    "additional_bus_stop_time_df.to_csv(output_path, index=False)\n",
    "\n",
    "# Construct the full path to the output file\n",
    "output_path = os.path.join(project_root, \"data\", \"processed\", \"additional_travel_time_df.csv\")\n",
    "# Save the CSV\n",
    "additional_travel_time_df.to_csv(output_path, index=False)\n",
    "\n",
    "# Construct the full path to the output file\n",
    "output_path = os.path.join(project_root, \"data\", \"processed\", \"customer_journey_time_performance_df.csv\")\n",
    "# Save the CSV\n",
    "customer_journey_time_performance_df.to_csv(output_path, index=False)\n",
    "\n"
   ]
  },
  {
   "cell_type": "code",
   "execution_count": null,
   "metadata": {},
   "outputs": [],
   "source": []
  }
 ],
 "metadata": {
  "kernelspec": {
   "display_name": "Python (datathon_env)",
   "language": "python",
   "name": "datathon_env"
  },
  "language_info": {
   "codemirror_mode": {
    "name": "ipython",
    "version": 3
   },
   "file_extension": ".py",
   "mimetype": "text/x-python",
   "name": "python",
   "nbconvert_exporter": "python",
   "pygments_lexer": "ipython3",
   "version": "3.13.3"
  }
 },
 "nbformat": 4,
 "nbformat_minor": 4
}
